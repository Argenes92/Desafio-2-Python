{
  "nbformat": 4,
  "nbformat_minor": 0,
  "metadata": {
    "colab": {
      "provenance": []
    },
    "kernelspec": {
      "name": "python3",
      "display_name": "Python 3"
    },
    "language_info": {
      "name": "python"
    }
  },
  "cells": [
    {
      "cell_type": "markdown",
      "source": [
        "#Desafío 2"
      ],
      "metadata": {
        "id": "AFDU19UzJYyu"
      }
    },
    {
      "cell_type": "markdown",
      "source": [
        "##Entrenando la programación\n",
        "\n",
        "###1 - Escribe un programa que pida a la persona usuaria que proporcione dos números y muestre el número más grande."
      ],
      "metadata": {
        "id": "IazGv8dVJcZM"
      }
    },
    {
      "cell_type": "code",
      "execution_count": null,
      "metadata": {
        "colab": {
          "base_uri": "https://localhost:8080/"
        },
        "id": "r41cHQ04Id8I",
        "outputId": "0645e768-de65-4903-d993-57b07e5dcbc3"
      },
      "outputs": [
        {
          "output_type": "stream",
          "name": "stdout",
          "text": [
            "Ingrese el primer número: 2\n",
            "Ingrese el segundo número: 2\n",
            "Los números son iguales\n"
          ]
        }
      ],
      "source": [
        "numero1 = int(input(\"Ingrese el primer número: \"))\n",
        "numero2 = int(input(\"Ingrese el segundo número: \"))\n",
        "\n",
        "if numero1 > numero2:\n",
        "  print(f\"El número más grande es: {numero1}\")\n",
        "elif numero2 > numero1:\n",
        "  print(f\"El número más grande es: {numero2}\")\n",
        "else:\n",
        "  print(\"Los números son iguales\")"
      ]
    },
    {
      "cell_type": "markdown",
      "source": [
        "###2 - Escribe un programa que solicite el porcentaje de crecimiento de producción de una empresa e informe si hubo un crecimiento (porcentaje positivo) o una disminución (porcentaje negativo)."
      ],
      "metadata": {
        "id": "UVEDBrt1LFJ0"
      }
    },
    {
      "cell_type": "code",
      "source": [
        "crecimiento = float(input(\"Ingrese el porcentaje de crecimiento de la producción: \"))\n",
        "\n",
        "if crecimiento > 0:\n",
        "  print(f'Hubo un crecimiento en la producción de: {crecimiento}%')\n",
        "elif crecimiento < 0:\n",
        "  print(f\"Hubo una disminución en la producción de: {crecimiento}%\")\n",
        "else:\n",
        "  print(\"No hubo crecimiento ni disminución en la producción\")"
      ],
      "metadata": {
        "colab": {
          "base_uri": "https://localhost:8080/"
        },
        "id": "Wcm40CWiLJk3",
        "outputId": "ef84a2b3-5a79-4d58-f394-14af24a397c4"
      },
      "execution_count": null,
      "outputs": [
        {
          "output_type": "stream",
          "name": "stdout",
          "text": [
            "Ingrese el porcentaje de crecimiento de la producción: 0\n",
            "No hubo crecimiento ni disminución en la producción\n"
          ]
        }
      ]
    },
    {
      "cell_type": "markdown",
      "source": [
        "###3 - Escribe un programa que determine si una letra proporcionada por la persona usuaria es una vocal o una consonante."
      ],
      "metadata": {
        "id": "zh5plgYRMmbZ"
      }
    },
    {
      "cell_type": "code",
      "source": [
        "letra = input(\"Ingrese una letra: \")\n",
        "\n",
        "if letra in \"aeiouAEIOU\":\n",
        "  print(f\"La letra {letra} es una vocal\")\n",
        "else:\n",
        "  print(f\"La letra {letra} es una consonante\")"
      ],
      "metadata": {
        "colab": {
          "base_uri": "https://localhost:8080/"
        },
        "id": "SrgfXINLNQJI",
        "outputId": "a760017a-46ae-464a-f97a-4aebd97c6ec3"
      },
      "execution_count": null,
      "outputs": [
        {
          "output_type": "stream",
          "name": "stdout",
          "text": [
            "Ingrese una letra: A\n",
            "La letra A es una vocal\n"
          ]
        }
      ]
    },
    {
      "cell_type": "markdown",
      "source": [
        "###4 - Escribe un programa que lea valores promedio de precios de un modelo de automóvil durante 3 años consecutivos y muestre el valor más alto y más bajo entre esos tres años."
      ],
      "metadata": {
        "id": "1M0gJ_gEQg_I"
      }
    },
    {
      "cell_type": "code",
      "source": [
        "precio_ano1 = float(input(\"Ingrese el precio del automóvil durante el primer año: \"))\n",
        "precio_ano2 = float(input(\"Ingrese el precio del automóvil durante el segundo año: \"))\n",
        "precio_ano3 = float(input(\"Ingrese el precio del automóvil durante el tercer año: \"))\n",
        "\n",
        "if precio_ano1 > precio_ano2 and precio_ano1 > precio_ano3:\n",
        "  mayor = precio_ano1\n",
        "elif precio_ano2 > precio_ano1 and precio_ano2 > precio_ano3:\n",
        "  mayor = precio_ano2\n",
        "else:\n",
        "  mayor = precio_ano3\n",
        "\n",
        "if precio_ano1 < precio_ano2 and precio_ano1 < precio_ano3:\n",
        "  menor = precio_ano1\n",
        "elif precio_ano2 < precio_ano1 and precio_ano2 < precio_ano3:\n",
        "  menor = precio_ano2\n",
        "else:\n",
        "  menor = precio_ano3\n",
        "\n",
        "print(f\"El precio más alto fue de: {mayor}\")\n",
        "print(f\"El precio más bajo fue de: {menor}\")"
      ],
      "metadata": {
        "id": "Z4ihh4JYQiXW",
        "colab": {
          "base_uri": "https://localhost:8080/"
        },
        "outputId": "f74af9c0-344b-4c8c-8000-79bb8bbc94ba"
      },
      "execution_count": null,
      "outputs": [
        {
          "output_type": "stream",
          "name": "stdout",
          "text": [
            "Ingrese el precio del automóvil durante el primer año: 100\n",
            "Ingrese el precio del automóvil durante el segundo año: 150\n",
            "Ingrese el precio del automóvil durante el tercer año: 50\n",
            "El precio más alto fue de: 150.0\n",
            "El precio más bajo fue de: 50.0\n"
          ]
        }
      ]
    },
    {
      "cell_type": "markdown",
      "source": [
        "###5 - Escribe un programa que pregunte sobre el precio de tres productos e indique cuál es el producto más barato para comprar."
      ],
      "metadata": {
        "id": "qRb3ZTwVW-6Y"
      }
    },
    {
      "cell_type": "code",
      "source": [
        "producto1 = float(input(\"Ingrese el precio del primer producto: \"))\n",
        "producto2 = float(input(\"Ingrese el precio del segundo producto: \"))\n",
        "producto3 = float(input(\"Ingrese el precio del tercer producto: \"))\n",
        "\n",
        "if producto1 < producto2 and producto1 < producto3:\n",
        "  print(f\"El producto más barato es el primero, con un precio de: {producto1}\")\n",
        "elif producto2 < producto1 and producto2 < producto3:\n",
        "  print(f\"El producto más barato es el segundo, con un precio de: {producto2}\")\n",
        "else:\n",
        "  print(f\"El producto más barato es el tercero, con un precio de: {producto3}\")"
      ],
      "metadata": {
        "colab": {
          "base_uri": "https://localhost:8080/"
        },
        "id": "ibgryTKrX5mM",
        "outputId": "7578cc8c-489e-4c46-8460-cb416b0ef63e"
      },
      "execution_count": null,
      "outputs": [
        {
          "output_type": "stream",
          "name": "stdout",
          "text": [
            "Ingrese el precio del primer producto: 3\n",
            "Ingrese el precio del segundo producto: 2\n",
            "Ingrese el precio del tercer producto: 1\n",
            "El producto más barato es el tercero, con un precio de: 1.0\n"
          ]
        }
      ]
    },
    {
      "cell_type": "markdown",
      "source": [
        "###6 - Escribe un programa que lea tres números y los muestre en orden descendente."
      ],
      "metadata": {
        "id": "mlzltcuSYfRg"
      }
    },
    {
      "cell_type": "code",
      "source": [
        "numero1 = float(input(\"Ingrese el primer número: \"))\n",
        "numero2 = float(input(\"Ingrese el segundo número: \"))\n",
        "numero3 = float(input(\"Ingrese el tercer número: \"))\n",
        "\n",
        "print(\"Los números en orden descendente son:\")\n",
        "\n",
        "if numero1 >= numero2 and numero1 >= numero3:\n",
        "    print(numero1)\n",
        "    if numero2 >= numero3:\n",
        "        print(numero2)\n",
        "        print(numero3)\n",
        "    else:\n",
        "        print(numero3)\n",
        "        print(numero2)\n",
        "elif numero2 >= numero1 and numero2 >= numero3:\n",
        "    print(numero2)\n",
        "    if numero1 >= numero3:\n",
        "        print(numero1)\n",
        "        print(numero3)\n",
        "    else:\n",
        "        print(numero3)\n",
        "        print(numero1)\n",
        "else:\n",
        "    print(numero3)\n",
        "    if numero1 >= numero2:\n",
        "        print(numero1)\n",
        "        print(numero2)\n",
        "    else:\n",
        "        print(numero2)\n",
        "        print(numero1)"
      ],
      "metadata": {
        "colab": {
          "base_uri": "https://localhost:8080/"
        },
        "id": "NGw5M7DWYi3S",
        "outputId": "75eb9c21-9a88-4659-cd50-759faec257ca"
      },
      "execution_count": null,
      "outputs": [
        {
          "output_type": "stream",
          "name": "stdout",
          "text": [
            "Ingrese el primer número: 3\n",
            "Ingrese el segundo número: 2\n",
            "Ingrese el tercer número: 1\n",
            "Los números en orden descendente son:\n",
            "3.0\n",
            "2.0\n",
            "1.0\n"
          ]
        }
      ]
    },
    {
      "cell_type": "markdown",
      "source": [
        "###7 -Escribe un programa que pregunte en qué turno estudia la persona usuaria (\"mañana\", \"tarde\" o \"noche\") y muestre el mensaje \"¡Buenos Días!\", \"¡Buenas Tardes!\", \"¡Buenas Noches!\" o \"Valor Inválido!\", según el caso."
      ],
      "metadata": {
        "id": "pvulGvze5yrK"
      }
    },
    {
      "cell_type": "code",
      "source": [
        "turno = input(\"En qué turno estudias? \")\n",
        "\n",
        "if turno == \"mañana\":\n",
        "  print(\"¡Buenos días!\")\n",
        "elif turno == \"tarde\":\n",
        "  print(\"¡Buenas tardes!\")\n",
        "elif turno == \"noche\":\n",
        "  print(\"¡Buenas noches!\")\n",
        "else:\n",
        "  print(\"Valor inválido\")"
      ],
      "metadata": {
        "colab": {
          "base_uri": "https://localhost:8080/"
        },
        "id": "oAY24E9n5z-M",
        "outputId": "7fb23924-d72f-465d-ac8c-b49abf5cc533"
      },
      "execution_count": 4,
      "outputs": [
        {
          "output_type": "stream",
          "name": "stdout",
          "text": [
            "En qué turno estudias? lunes\n",
            "Valor inválido\n"
          ]
        }
      ]
    },
    {
      "cell_type": "markdown",
      "source": [
        "###8 - Escribe un programa que solicite un número entero a la persona usuaria y determine si es par o impar. Pista: Puedes usar el operador módulo (%)."
      ],
      "metadata": {
        "id": "BQPGeQT16CWX"
      }
    },
    {
      "cell_type": "code",
      "source": [
        "numero = int(input(\"Ingrese un número entero: \"))\n",
        "\n",
        "if numero % 2 == 0:\n",
        "  print(f\"El número {numero} es par\")\n",
        "else:\n",
        "  print(f\"El número {numero} es impar\")"
      ],
      "metadata": {
        "colab": {
          "base_uri": "https://localhost:8080/"
        },
        "id": "ETowM6zd6GKb",
        "outputId": "33ae653c-256d-4326-9493-20ad827bba70"
      },
      "execution_count": 7,
      "outputs": [
        {
          "output_type": "stream",
          "name": "stdout",
          "text": [
            "Ingrese un número entero: 2\n",
            "El número 2 es par\n"
          ]
        }
      ]
    },
    {
      "cell_type": "markdown",
      "source": [
        "###9 - Escribe un programa que pida un número a la persona usuaria y le informe si es entero o decimal."
      ],
      "metadata": {
        "id": "8uLTG_WJ6UVN"
      }
    },
    {
      "cell_type": "code",
      "source": [
        "num = float(input(\"Ingrese un número: \"))\n",
        "\n",
        "if num % 1 == 0:\n",
        "  print(f\"El número {num} es entero\")\n",
        "else:\n",
        "  print(f\"El número {num} es decimal\")"
      ],
      "metadata": {
        "colab": {
          "base_uri": "https://localhost:8080/"
        },
        "id": "I7EPXdY-6YzR",
        "outputId": "b068b72a-88df-40aa-be14-31de4d1d47ff"
      },
      "execution_count": 11,
      "outputs": [
        {
          "output_type": "stream",
          "name": "stdout",
          "text": [
            "Ingrese un número: 5\n",
            "El número 5.0 es entero\n"
          ]
        }
      ]
    },
    {
      "cell_type": "markdown",
      "source": [
        "##Momento de los proyectos\n",
        "\n",
        "###10 - Un programa debe ser escrito para leer dos números y luego preguntar a la persona usuaria qué operación desea realizar. El resultado de la operación debe incluir información sobre el número, si es par o impar, positivo o negativo, e entero o decimal."
      ],
      "metadata": {
        "id": "b3VyXSJP7PU3"
      }
    },
    {
      "cell_type": "code",
      "source": [
        "num1 = float(input(\"Ingrese el primer número: \"))\n",
        "num2 = float(input(\"Ingrese el segundo número: \"))\n",
        "operacion = input(\"¿Qué operación desea realizar? (sumar, restar, multiplicar, dividir): \")\n",
        "\n",
        "if operacion == \"sumar\":\n",
        "  resultado = num1 + num2\n",
        "elif operacion == \"restar\":\n",
        "  resultado = num1 - num2\n",
        "elif operacion == \"multiplicar\":\n",
        "  resultado = num1 * num2\n",
        "elif operacion == \"dividir\":\n",
        "  resultado = num1 / num2\n",
        "\n",
        "if resultado % 2 == 0:\n",
        "  print(f\"El resultado de la operación es {resultado} y es par\")\n",
        "else:\n",
        "  print(f\"El resultado de la operación es {resultado} y es impar\")\n",
        "\n",
        "if resultado > 0:\n",
        "  print(f\"El resultado de la operación es {resultado} y es positivo\")\n",
        "elif resultado < 0:\n",
        "  print(f\"El resultado de la operación es {resultado} y es negativo\")\n",
        "\n",
        "if resultado % 1 == 0:\n",
        "  print(f\"El resultado de la operación es {resultado} y es entero\")\n",
        "else:\n",
        "  print(f\"El resultado de la operación es {resultado} y es decimal\")"
      ],
      "metadata": {
        "colab": {
          "base_uri": "https://localhost:8080/"
        },
        "id": "A5_So3jM7RPO",
        "outputId": "04c7f85d-3ab7-40eb-8039-2f6eb945ad59"
      },
      "execution_count": 13,
      "outputs": [
        {
          "output_type": "stream",
          "name": "stdout",
          "text": [
            "Ingrese el primer número: 0.6\n",
            "Ingrese el segundo número: 1\n",
            "¿Qué operación desea realizar? (sumar, restar, multiplicar, dividir): sumar\n",
            "El resultado de la operación es 1.6 y es impar\n",
            "El resultado de la operación es 1.6 y es positivo\n",
            "El resultado de la operación es 1.6 y es decimal\n"
          ]
        }
      ]
    },
    {
      "cell_type": "markdown",
      "source": [
        "###11 - Escribe un programa que pida a la persona usuaria tres números que representan los lados de un triángulo. El programa debe informar si los valores pueden utilizarse para formar un triángulo y, en caso afirmativo, si es equilátero, isósceles o escaleno. Ten en cuenta algunas sugerencias:\n",
        "\n",
        "* Tres lados forman un triángulo cuando la suma de cualesquiera dos lados es mayor que el tercero;\n",
        "* Triángulo Equilátero: tres lados iguales;\n",
        "* Triángulo Isósceles: dos lados iguales;\n",
        "* Triángulo Escaleno: tres lados diferentes."
      ],
      "metadata": {
        "id": "TafqGKfH-45Z"
      }
    },
    {
      "cell_type": "code",
      "source": [
        "lado1 = float(input(\"Ingrese el primer lado del triángulo: \"))\n",
        "lado2 = float(input(\"Ingrese el segundo lado del triángulo: \"))\n",
        "lado3 = float(input(\"Ingrese el tercer lado del triángulo: \"))\n",
        "\n",
        "if lado1 + lado2 > lado3 and lado1 + lado3 > lado2 and lado2 + lado3 > lado1:\n",
        "  print(\"Los valores pueden utilizarse para formar un triángulo\")\n",
        "  if lado1 == lado2 == lado3:\n",
        "    print(\"El triángulo es equilátero\")\n",
        "  elif lado1 == lado2 or lado1 == lado3 or lado2 == lado3:\n",
        "    print(\"El triángulo es isósceles\")\n",
        "  else:\n",
        "    print(\"El triángulo es escaleno\")\n",
        "else:\n",
        "  print(\"Los valores no pueden utilizarse para formar un triángulo\")"
      ],
      "metadata": {
        "colab": {
          "base_uri": "https://localhost:8080/"
        },
        "id": "y7k7FsZ475Co",
        "outputId": "1db4cb42-c1c4-4806-a067-f8a01bf7d265"
      },
      "execution_count": 17,
      "outputs": [
        {
          "output_type": "stream",
          "name": "stdout",
          "text": [
            "Ingrese el primer lado del triángulo: 2\n",
            "Ingrese el segundo lado del triángulo: 3\n",
            "Ingrese el tercer lado del triángulo: 4\n",
            "Los valores pueden utilizarse para formar un triángulo\n",
            "El triángulo es escaleno\n"
          ]
        }
      ]
    },
    {
      "cell_type": "markdown",
      "source": [
        "###12 - Un establecimiento está vendiendo combustibles con descuentos variables. Para el etanol, si la cantidad comprada es de hasta 15 litros, el descuento será del 2% por litro. En caso contrario, será del 4% por litro. Para el diésel, si la cantidad comprada es de hasta 15 litros, el descuento será del 3% por litro. En caso contrario, será del 5% por litro. El precio por litro de diésel es de R\\$ 2,00 y el precio por litro de etanol es de R\\$ 1,70. Escribe un programa que lea la cantidad de litros vendidos y el tipo de combustible (E para etanol y D para diésel) y calcule el valor a pagar por el cliente. Ten en cuenta algunas sugerencias:\n",
        "\n",
        "* El valor del descuento será el producto del precio por litro, la cantidad de litros y el valor del descuento.\n",
        "* El valor a pagar por un cliente será el resultado de la multiplicación del precio por litro por la cantidad de litros menos el valor del descuento resultante del cálculo."
      ],
      "metadata": {
        "id": "d0FrFioU_urx"
      }
    },
    {
      "cell_type": "code",
      "source": [
        "venta = float(input(\"Ingrese la cantidad de litros vendidos: \"))\n",
        "tipo = input(\"Ingrese el tipo de combustible (E para Etanol y D para Diesel: )\")\n",
        "\n",
        "if tipo == \"E\":\n",
        "  precio = 1.70\n",
        "  if venta <= 15:\n",
        "    descuento = 0.02\n",
        "  else:\n",
        "    descuento = 0.04\n",
        "elif tipo == \"D\":\n",
        "  precio = 2.00\n",
        "  if venta <= 15:\n",
        "    descuento = 0.03\n",
        "  else:\n",
        "    descuento = 0.05\n",
        "else:\n",
        "  print(\"Tipo de combustible inválido\")\n",
        "\n",
        "valor_a_pagar = precio * venta * (1 - descuento)\n",
        "\n",
        "print(f\"El valor a pagar por el cliente es: {valor_a_pagar}\")"
      ],
      "metadata": {
        "colab": {
          "base_uri": "https://localhost:8080/"
        },
        "id": "WJMgZzzyAEJb",
        "outputId": "d32b9825-c571-46c8-e742-d19af8e4c8d7"
      },
      "execution_count": 20,
      "outputs": [
        {
          "output_type": "stream",
          "name": "stdout",
          "text": [
            "Ingrese la cantidad de litros vendidos: 15\n",
            "Ingrese el tipo de combustible (E para Etanol y D para Diesel: )D\n",
            "El valor a pagar por el cliente es: 29.099999999999998\n"
          ]
        }
      ]
    },
    {
      "cell_type": "markdown",
      "source": [
        "###13 - En una empresa de venta de bienes raíces, debes crear un código que analice los datos de ventas anuales para ayudar a la dirección en la toma de decisiones. El código debe recopilar los datos de cantidad de ventas durante los años 2022 y 2023 y calcular la variación porcentual. A partir del valor de la variación, se deben proporcionar las siguientes sugerencias:\n",
        "\n",
        "* Para una variación superior al 20%: bonificación para el equipo de ventas.\n",
        "* Para una variación entre el 2% y el 20%: pequeña bonificación para el equipo de ventas.\n",
        "* Para una variación entre el 2% y el -10%: planificación de políticas de incentivo a las ventas.\n",
        "* Para bonificaciones inferiores al -10%: recorte de gastos."
      ],
      "metadata": {
        "id": "6komMxu6_3gq"
      }
    },
    {
      "cell_type": "code",
      "source": [
        "ventas2022 = float(input(\"Ingrese la cantidad de ventas del año 2022: \"))\n",
        "ventas2023 = float(input(\"Ingrese la cantidad de ventas del año 2023: \"))\n",
        "\n",
        "variacio_porcentual = (ventas2023 - ventas2022) / ventas2022 * 100\n",
        "print(f\"La variación porcentual es: {variacio_porcentual}%\")\n",
        "\n",
        "if variacio_porcentual > 20:\n",
        "  print(\"Bonificación para el equipo de ventas\")\n",
        "elif 2 <= variacio_porcentual <= 20:\n",
        "  print(\"Pequeña bonificación para el equipo de ventas\")\n",
        "elif -10 <= variacio_porcentual < 2:\n",
        "  print(\"Planificación de políticas de incentivo a las ventas\")\n",
        "else:\n",
        "  print(\"Recorte de gastos\")"
      ],
      "metadata": {
        "colab": {
          "base_uri": "https://localhost:8080/"
        },
        "id": "NCR_EyTEGRUi",
        "outputId": "ce620bf6-50c8-4017-88b6-5cc192da8d8f"
      },
      "execution_count": 25,
      "outputs": [
        {
          "output_type": "stream",
          "name": "stdout",
          "text": [
            "Ingrese la cantidad de ventas del año 2022: 100\n",
            "Ingrese la cantidad de ventas del año 2023: 80\n",
            "La variación porcentual es: -20.0%\n",
            "Recorte de gastos\n"
          ]
        }
      ]
    }
  ]
}